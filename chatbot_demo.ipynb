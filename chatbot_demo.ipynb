{
 "cells": [
  {
   "cell_type": "code",
   "id": "initial_id",
   "metadata": {
    "collapsed": true,
    "ExecuteTime": {
     "end_time": "2025-04-23T13:30:06.235242Z",
     "start_time": "2025-04-23T13:30:01.310054Z"
    }
   },
   "source": [
    "import os\n",
    "import gradio as gr\n",
    "from gradio.components import HTML\n",
    "import torch\n",
    "from PIL.ImageOps import scale\n",
    "from PIL import Image\n",
    "from transformers import BertTokenizer, BertForSequenceClassification\n",
    "import json\n",
    "from zhipuai import ZhipuAI"
   ],
   "outputs": [
    {
     "name": "stderr",
     "output_type": "stream",
     "text": [
      "C:\\Users\\10521\\.conda\\envs\\Pytorch\\Lib\\site-packages\\tqdm\\auto.py:21: TqdmWarning: IProgress not found. Please update jupyter and ipywidgets. See https://ipywidgets.readthedocs.io/en/stable/user_install.html\n",
      "  from .autonotebook import tqdm as notebook_tqdm\n"
     ]
    }
   ],
   "execution_count": 1
  },
  {
   "metadata": {
    "ExecuteTime": {
     "end_time": "2025-04-22T14:09:50.039942Z",
     "start_time": "2025-04-22T14:09:50.035811Z"
    }
   },
   "cell_type": "code",
   "source": "label_num_to_text = {0: ('Analgesics', 'Germany'), 1: ('Analgesics', 'Poland'), 2: ('Furniture', 'Germany'), 3: ('Antibiotics', 'Poland'), 4: ('Antibiotics', 'Germany'), 5: ('Antimalarial', 'Poland'), 6: ('Antimalarial', 'Germany'), 7: ('Antipiretics', 'Poland'), 8: ('Antipiretics', 'Germany'), 9: ('Antiseptics', 'Poland'), 10: ('Antiseptics', 'Germany'), 11: ('Mood Stabilizers', 'Poland'), 12: ('Mood Stabilizers', 'Germany')}\n",
   "id": "8a20265c4a2bfa99",
   "outputs": [],
   "execution_count": 2
  },
  {
   "metadata": {},
   "cell_type": "code",
   "outputs": [],
   "execution_count": null,
   "source": [
    "# Load the BERT model and tokenizer\n",
    "# model_path = '../Classification/results/checkpoint-1299'\n",
    "# tokenizer = BertTokenizer.from_pretrained('bert-base-uncased')\n",
    "# model = BertForSequenceClassification.from_pretrained(model_path)\n",
    "# device = torch.device('cuda') if torch.cuda.is_available() else torch.device('cpu')\n",
    "# model.to(device)"
   ],
   "id": "b2362a972e6e2fa3"
  },
  {
   "metadata": {
    "ExecuteTime": {
     "end_time": "2025-04-22T14:51:48.129773Z",
     "start_time": "2025-04-22T14:51:48.107792Z"
    }
   },
   "cell_type": "code",
   "source": [
    "# Initialize ZhipuAI client\n",
    "client = ZhipuAI(api_key=\"04c2e3e77614447f88083749a02e91c7.agrCgPanJ3kl4zg6\")"
   ],
   "id": "cbf5592d4d2c6485",
   "outputs": [],
   "execution_count": 26
  },
  {
   "metadata": {
    "ExecuteTime": {
     "end_time": "2025-04-22T14:34:06.547632Z",
     "start_time": "2025-04-22T14:34:06.544452Z"
    }
   },
   "cell_type": "code",
   "source": [
    "# Function to classify pharmacy\n",
    "def classify_commodity(commodity_name):\n",
    "    # inputs = tokenizer(commodity_name, return_tensors=\"pt\").to(device)\n",
    "    # outputs = model(**inputs)\n",
    "    # preds = outputs.logits.argmax(-1).item()\n",
    "    # category = label_num_to_text[preds][0] + \"-\" + label_num_to_text[preds][1]\n",
    "    # print(category)\n",
    "    return \"Analgesics-Germany\""
   ],
   "id": "5b9e1d3551062ac2",
   "outputs": [],
   "execution_count": 20
  },
  {
   "metadata": {
    "ExecuteTime": {
     "end_time": "2025-04-22T14:56:24.414198Z",
     "start_time": "2025-04-22T14:56:24.408195Z"
    }
   },
   "cell_type": "code",
   "source": [
    "# Function to generate sales suggestions\n",
    "def generate_suggestions(messages, commodity_name, category):\n",
    "\n",
    "    analysis_file = f'data_analysis/analysis_result/Pharm-data/analysis_result_{category}.json'\n",
    "    with open(analysis_file, 'r') as f:\n",
    "        analysis_result = json.load(f)\n",
    "\n",
    "\n",
    "    known_facts = {\n",
    "        \"product\": category,\n",
    "        \"top_10_distributor_performance\": analysis_result[\"top_10_distributor_performance\"],\n",
    "        \"team_performance\": analysis_result[\"team_performance\"],\n",
    "        \"sales_rep_distribution\": analysis_result[\"sales_rep_distribution\"],\n",
    "        \"top_10_cities_in_Germany_by_sales_of_Analgesics\": analysis_result[\"top_10_cities_in_Germany_by_sales_of_Analgesics\"],\n",
    "        \"top_10_customers_by_sales\": analysis_result[\"top_10_customers_by_sales\"],\n",
    "        \"top_10_products_by_sales\": analysis_result[\"top_10_products_by_sales\"],\n",
    "        # \"maximum_sales_record\": analysis_result[\"sales_max\"],\n",
    "        # \"25th_percentile_sales\": analysis_result[\"sales_25th_percentile\"],\n",
    "        # \"median_sales_amount\": analysis_result[\"sales_50th_percentile\"],\n",
    "        # \"75th_percentile_sales\": analysis_result[\"sales_75th_percentile\"],\n",
    "        \n",
    "    }\n",
    "    # top_10_cities_image = Image.open(f'../data_analysis/analysis_result_{category}/top_10_cities_distribution_{category}.png')\n",
    "    # top_10_states_image = Image.open(f'../data_analysis/analysis_result_{category}/top_10_states_distribution_{category}.png')\n",
    "    # seasonal_analysis_image = Image.open(f'../data_analysis/analysis_result_{category}/Seasonal_Analysis_{category}.png')\n",
    "\n",
    "\n",
    "    response = client.chat.completions.create(\n",
    "        model=\"glm-4-flash-250414\",\n",
    "        messages=[\n",
    "            {\"role\": \"user\", \"content\": f\"As a pharmacy product analyst to help the pharmacy store, please analyze the sales for the drug {category}, with less than 300 words.\"},\n",
    "            {\"role\": \"assistant\", \"content\": \"Of course, I can help you with that. Could you provide me with some information about the product?\"},\n",
    "            {\"role\": \"user\", \"content\": f\"Here are the facts: {known_facts}\"}\n",
    "        ],\n",
    "    )\n",
    "    sales_analysis = response.choices[0].message.content\n",
    "\n",
    "    messages.append((commodity_name, f\"The commodity '{commodity_name}' belongs to category '{category}'.\\n\\nAnalysis:\\n{sales_analysis}\"))\n",
    "    return messages, known_facts"
   ],
   "id": "2ef85f111a76666c",
   "outputs": [],
   "execution_count": 32
  },
  {
   "metadata": {
    "ExecuteTime": {
     "end_time": "2025-04-22T14:17:54.084500Z",
     "start_time": "2025-04-22T14:17:54.076625Z"
    }
   },
   "cell_type": "code",
   "source": [
    "# Function to send a message to the chatbot to keep talking (remember using the history)\n",
    "def send_message(chat_history, message):\n",
    "    messages = []\n",
    "    print(chat_history)\n",
    "    for i in range(0, len(chat_history)):\n",
    "        messages.append({\n",
    "            \"role\": \"user\",\n",
    "            \"content\": chat_history[i][0]\n",
    "        })\n",
    "        messages.append({\n",
    "            \"role\": \"assistant\",\n",
    "            \"content\": chat_history[i][1]\n",
    "        })\n",
    "    messages.append({\n",
    "        \"role\": \"user\",\n",
    "        \"content\": message\n",
    "    })\n",
    "    # using history to keep the conversation\n",
    "    print(messages)\n",
    "    response = client.chat.completions.create(\n",
    "        model=\"glm-4-flash-250414\",\n",
    "        messages=messages,\n",
    "    )\n",
    "    messages.append({\n",
    "        \"role\": \"assistant\",\n",
    "        \"content\": response.choices[0].message.content\n",
    "    })\n",
    "    chat_history.append([message,response.choices[0].message.content])\n",
    "    return chat_history"
   ],
   "id": "1fbbee119654bc37",
   "outputs": [],
   "execution_count": 8
  },
  {
   "metadata": {
    "ExecuteTime": {
     "end_time": "2025-04-22T14:56:31.839249Z",
     "start_time": "2025-04-22T14:56:28.942511Z"
    }
   },
   "cell_type": "code",
   "source": [
    "# Create Gradio Blocks interface\n",
    "with gr.Blocks() as demo:\n",
    "    title = \"# Sales Assistant Chatbot\"\n",
    "    gr.Markdown(title)\n",
    "    category = gr.State()\n",
    "\n",
    "    with gr.Row():\n",
    "        with gr.Column(scale=1):\n",
    "            commodity_input = gr.Textbox(label=\"Input Drug Name\")\n",
    "            classify_button = gr.Button(\"Step1.Classify\")\n",
    "            category_output = gr.Textbox(label=\"Category\", interactive=False)\n",
    "            suggestions_button = gr.Button(\"Step2.Generate Analysis\")\n",
    "            known_facts_output = gr.Textbox(label=\"Known Facts\", interactive=False)\n",
    "        with gr.Column(scale=4):\n",
    "            chatbot = gr.Chatbot(label=\"Pharmacy Store Chatbot\")\n",
    "            chatbot_input = gr.Textbox(label=\"Your Message\")\n",
    "            send_button = gr.Button(\"Continue Chat\")\n",
    "            # html_button = gr.Button(\"Open US State Profit Map\")\n",
    "            # with gr.Row():\n",
    "            #     # 2 images in a row\n",
    "            #     image1 = gr.Image(value=None, label=\"Top 10 States Distribution\")\n",
    "            #     image2 = gr.Image(value=None, label=\"Top 10 Cities Distribution\")\n",
    "            # with gr.Row():\n",
    "            #     image3 = gr.Image(value=None, label=\"Seasonal Analysis\")\n",
    "            # with gr.Row():\n",
    "            #     image4 = gr.HTML(label=\"Discount VS Sales and Profit\")\n",
    "            #     image5 = gr.HTML(label=\"Sales Over Time\")\n",
    "            # with gr.Row():\n",
    "            #     image6 = gr.HTML(label=\"Ship Mode Distribution\")\n",
    "            #     image7 = gr.HTML(label=\"Unit Price Profit Discount By Segment\")\n",
    "\n",
    "\n",
    "\n",
    "    classify_button.click(fn=classify_commodity, inputs=commodity_input, outputs=category_output)\n",
    "    # suggestions_button.click(fn=generate_suggestions, inputs=[chatbot, commodity_input, category_output], outputs=[chatbot, known_facts_output])\n",
    "    suggestions_button.click(\n",
    "        fn=lambda chatbot, commodity_name, category: \n",
    "            generate_suggestions(chatbot, commodity_name, category,\n",
    "            # read_svgs(category, \"discount_vs_avg_sales_volumes_and_profit\"),\n",
    "            # read_svgs(category, \"sales_over_time\"),\n",
    "            # read_svgs(category, \"ship_mode_distribution\"),\n",
    "            # read_svgs(category, \"unit_price_profit_discount_by_segment\"),\n",
    "            # read_html(category)\n",
    "        ),\n",
    "        inputs=[chatbot, commodity_input, category_output],\n",
    "        outputs=[chatbot, known_facts_output],\n",
    "    )\n",
    "    send_button.click(fn=send_message, inputs=[chatbot, chatbot_input], outputs=chatbot)\n",
    "    # html_button.click(fn=open_html, inputs=category_output)\n",
    "\n",
    "demo.launch(share=True)"
   ],
   "id": "79aba2ad001fd8a",
   "outputs": [
    {
     "name": "stderr",
     "output_type": "stream",
     "text": [
      "C:\\Users\\10521\\.conda\\envs\\Pytorch\\Lib\\site-packages\\gradio\\components\\chatbot.py:225: UserWarning: You have not specified a value for the `type` parameter. Defaulting to the 'tuples' format for chatbot messages, but this is deprecated and will be removed in a future version of Gradio. Please set type='messages' instead, which uses openai-style 'role' and 'content' keys.\n",
      "  warnings.warn(\n"
     ]
    },
    {
     "name": "stdout",
     "output_type": "stream",
     "text": [
      "* Running on local URL:  http://127.0.0.1:7871\n",
      "* Running on public URL: https://0cccb5be0719991e36.gradio.live\n",
      "\n",
      "This share link expires in 72 hours. For free permanent hosting and GPU upgrades, run `gradio deploy` from the terminal in the working directory to deploy to Hugging Face Spaces (https://huggingface.co/spaces)\n"
     ]
    },
    {
     "data": {
      "text/plain": [
       "<IPython.core.display.HTML object>"
      ],
      "text/html": [
       "<div><iframe src=\"https://0cccb5be0719991e36.gradio.live\" width=\"100%\" height=\"500\" allow=\"autoplay; camera; microphone; clipboard-read; clipboard-write;\" frameborder=\"0\" allowfullscreen></iframe></div>"
      ]
     },
     "metadata": {},
     "output_type": "display_data"
    },
    {
     "data": {
      "text/plain": []
     },
     "execution_count": 33,
     "metadata": {},
     "output_type": "execute_result"
    }
   ],
   "execution_count": 33
  }
 ],
 "metadata": {
  "kernelspec": {
   "display_name": "Python 3",
   "language": "python",
   "name": "python3"
  },
  "language_info": {
   "codemirror_mode": {
    "name": "ipython",
    "version": 2
   },
   "file_extension": ".py",
   "mimetype": "text/x-python",
   "name": "python",
   "nbconvert_exporter": "python",
   "pygments_lexer": "ipython2",
   "version": "2.7.6"
  }
 },
 "nbformat": 4,
 "nbformat_minor": 5
}
